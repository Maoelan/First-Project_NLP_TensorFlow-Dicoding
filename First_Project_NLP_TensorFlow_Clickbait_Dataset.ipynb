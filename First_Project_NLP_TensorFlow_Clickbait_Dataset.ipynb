{
  "nbformat": 4,
  "nbformat_minor": 0,
  "metadata": {
    "colab": {
      "provenance": [],
      "authorship_tag": "ABX9TyMFHaowOpwFbrHuhuTW7bqi",
      "include_colab_link": true
    },
    "kernelspec": {
      "name": "python3",
      "display_name": "Python 3"
    },
    "language_info": {
      "name": "python"
    }
  },
  "cells": [
    {
      "cell_type": "markdown",
      "metadata": {
        "id": "view-in-github",
        "colab_type": "text"
      },
      "source": [
        "<a href=\"https://colab.research.google.com/github/Maoelan/First-Project_NLP_TensorFlow-Dicoding/blob/main/First_Project_NLP_TensorFlow_Clickbait_Dataset.ipynb\" target=\"_parent\"><img src=\"https://colab.research.google.com/assets/colab-badge.svg\" alt=\"Open In Colab\"/></a>"
      ]
    },
    {
      "cell_type": "code",
      "execution_count": 101,
      "metadata": {
        "colab": {
          "base_uri": "https://localhost:8080/"
        },
        "id": "fiBgsCPPEhRe",
        "outputId": "4efa62b9-4caa-4a4d-9d2a-35e3b7c32655"
      },
      "outputs": [
        {
          "output_type": "stream",
          "name": "stdout",
          "text": [
            "Drive already mounted at /content/drive; to attempt to forcibly remount, call drive.mount(\"/content/drive\", force_remount=True).\n"
          ]
        }
      ],
      "source": [
        "from google.colab import drive\n",
        "drive.mount('/content/drive')"
      ]
    },
    {
      "cell_type": "code",
      "source": [
        "import pandas as pd\n",
        "import tensorflow as tf\n",
        "import matplotlib.pyplot as plt\n",
        "from sklearn.utils import shuffle\n",
        "from sklearn.model_selection import train_test_split\n",
        "from tensorflow.keras.preprocessing.text import Tokenizer\n",
        "from tensorflow.keras.preprocessing.sequence import pad_sequences\n",
        "from nltk.corpus import stopwords\n",
        "from nltk.tokenize import word_tokenize"
      ],
      "metadata": {
        "id": "b-RcjmHPEivH"
      },
      "execution_count": 102,
      "outputs": []
    },
    {
      "cell_type": "markdown",
      "source": [
        "Dataset : https://www.kaggle.com/datasets/amananandrai/clickbait-dataset"
      ],
      "metadata": {
        "id": "unmK5o9CNgE_"
      }
    },
    {
      "cell_type": "code",
      "source": [
        "data = pd.read_csv('/content/drive/MyDrive/dataset/clickbait_data.csv')"
      ],
      "metadata": {
        "id": "NCZ_hzN4EkGG"
      },
      "execution_count": 103,
      "outputs": []
    },
    {
      "cell_type": "code",
      "source": [
        "data.tail()"
      ],
      "metadata": {
        "colab": {
          "base_uri": "https://localhost:8080/",
          "height": 206
        },
        "id": "6E6HM4s9EuUP",
        "outputId": "6cf81535-47b3-4228-d36f-3a1e01d365ba"
      },
      "execution_count": 104,
      "outputs": [
        {
          "output_type": "execute_result",
          "data": {
            "text/plain": [
              "                                                headline  clickbait\n",
              "31995  To Make Female Hearts Flutter in Iraq, Throw a...          0\n",
              "31996  British Liberal Democrat Patsy Calton, 56, die...          0\n",
              "31997  Drone smartphone app to help heart attack vict...          0\n",
              "31998  Netanyahu Urges Pope Benedict, in Israel, to D...          0\n",
              "31999  Computer Makers Prepare to Stake Bigger Claim ...          0"
            ],
            "text/html": [
              "\n",
              "  <div id=\"df-7bf01c15-1275-4fb1-90da-c4fb852bf26e\">\n",
              "    <div class=\"colab-df-container\">\n",
              "      <div>\n",
              "<style scoped>\n",
              "    .dataframe tbody tr th:only-of-type {\n",
              "        vertical-align: middle;\n",
              "    }\n",
              "\n",
              "    .dataframe tbody tr th {\n",
              "        vertical-align: top;\n",
              "    }\n",
              "\n",
              "    .dataframe thead th {\n",
              "        text-align: right;\n",
              "    }\n",
              "</style>\n",
              "<table border=\"1\" class=\"dataframe\">\n",
              "  <thead>\n",
              "    <tr style=\"text-align: right;\">\n",
              "      <th></th>\n",
              "      <th>headline</th>\n",
              "      <th>clickbait</th>\n",
              "    </tr>\n",
              "  </thead>\n",
              "  <tbody>\n",
              "    <tr>\n",
              "      <th>31995</th>\n",
              "      <td>To Make Female Hearts Flutter in Iraq, Throw a...</td>\n",
              "      <td>0</td>\n",
              "    </tr>\n",
              "    <tr>\n",
              "      <th>31996</th>\n",
              "      <td>British Liberal Democrat Patsy Calton, 56, die...</td>\n",
              "      <td>0</td>\n",
              "    </tr>\n",
              "    <tr>\n",
              "      <th>31997</th>\n",
              "      <td>Drone smartphone app to help heart attack vict...</td>\n",
              "      <td>0</td>\n",
              "    </tr>\n",
              "    <tr>\n",
              "      <th>31998</th>\n",
              "      <td>Netanyahu Urges Pope Benedict, in Israel, to D...</td>\n",
              "      <td>0</td>\n",
              "    </tr>\n",
              "    <tr>\n",
              "      <th>31999</th>\n",
              "      <td>Computer Makers Prepare to Stake Bigger Claim ...</td>\n",
              "      <td>0</td>\n",
              "    </tr>\n",
              "  </tbody>\n",
              "</table>\n",
              "</div>\n",
              "      <button class=\"colab-df-convert\" onclick=\"convertToInteractive('df-7bf01c15-1275-4fb1-90da-c4fb852bf26e')\"\n",
              "              title=\"Convert this dataframe to an interactive table.\"\n",
              "              style=\"display:none;\">\n",
              "        \n",
              "  <svg xmlns=\"http://www.w3.org/2000/svg\" height=\"24px\"viewBox=\"0 0 24 24\"\n",
              "       width=\"24px\">\n",
              "    <path d=\"M0 0h24v24H0V0z\" fill=\"none\"/>\n",
              "    <path d=\"M18.56 5.44l.94 2.06.94-2.06 2.06-.94-2.06-.94-.94-2.06-.94 2.06-2.06.94zm-11 1L8.5 8.5l.94-2.06 2.06-.94-2.06-.94L8.5 2.5l-.94 2.06-2.06.94zm10 10l.94 2.06.94-2.06 2.06-.94-2.06-.94-.94-2.06-.94 2.06-2.06.94z\"/><path d=\"M17.41 7.96l-1.37-1.37c-.4-.4-.92-.59-1.43-.59-.52 0-1.04.2-1.43.59L10.3 9.45l-7.72 7.72c-.78.78-.78 2.05 0 2.83L4 21.41c.39.39.9.59 1.41.59.51 0 1.02-.2 1.41-.59l7.78-7.78 2.81-2.81c.8-.78.8-2.07 0-2.86zM5.41 20L4 18.59l7.72-7.72 1.47 1.35L5.41 20z\"/>\n",
              "  </svg>\n",
              "      </button>\n",
              "      \n",
              "  <style>\n",
              "    .colab-df-container {\n",
              "      display:flex;\n",
              "      flex-wrap:wrap;\n",
              "      gap: 12px;\n",
              "    }\n",
              "\n",
              "    .colab-df-convert {\n",
              "      background-color: #E8F0FE;\n",
              "      border: none;\n",
              "      border-radius: 50%;\n",
              "      cursor: pointer;\n",
              "      display: none;\n",
              "      fill: #1967D2;\n",
              "      height: 32px;\n",
              "      padding: 0 0 0 0;\n",
              "      width: 32px;\n",
              "    }\n",
              "\n",
              "    .colab-df-convert:hover {\n",
              "      background-color: #E2EBFA;\n",
              "      box-shadow: 0px 1px 2px rgba(60, 64, 67, 0.3), 0px 1px 3px 1px rgba(60, 64, 67, 0.15);\n",
              "      fill: #174EA6;\n",
              "    }\n",
              "\n",
              "    [theme=dark] .colab-df-convert {\n",
              "      background-color: #3B4455;\n",
              "      fill: #D2E3FC;\n",
              "    }\n",
              "\n",
              "    [theme=dark] .colab-df-convert:hover {\n",
              "      background-color: #434B5C;\n",
              "      box-shadow: 0px 1px 3px 1px rgba(0, 0, 0, 0.15);\n",
              "      filter: drop-shadow(0px 1px 2px rgba(0, 0, 0, 0.3));\n",
              "      fill: #FFFFFF;\n",
              "    }\n",
              "  </style>\n",
              "\n",
              "      <script>\n",
              "        const buttonEl =\n",
              "          document.querySelector('#df-7bf01c15-1275-4fb1-90da-c4fb852bf26e button.colab-df-convert');\n",
              "        buttonEl.style.display =\n",
              "          google.colab.kernel.accessAllowed ? 'block' : 'none';\n",
              "\n",
              "        async function convertToInteractive(key) {\n",
              "          const element = document.querySelector('#df-7bf01c15-1275-4fb1-90da-c4fb852bf26e');\n",
              "          const dataTable =\n",
              "            await google.colab.kernel.invokeFunction('convertToInteractive',\n",
              "                                                     [key], {});\n",
              "          if (!dataTable) return;\n",
              "\n",
              "          const docLinkHtml = 'Like what you see? Visit the ' +\n",
              "            '<a target=\"_blank\" href=https://colab.research.google.com/notebooks/data_table.ipynb>data table notebook</a>'\n",
              "            + ' to learn more about interactive tables.';\n",
              "          element.innerHTML = '';\n",
              "          dataTable['output_type'] = 'display_data';\n",
              "          await google.colab.output.renderOutput(dataTable, element);\n",
              "          const docLink = document.createElement('div');\n",
              "          docLink.innerHTML = docLinkHtml;\n",
              "          element.appendChild(docLink);\n",
              "        }\n",
              "      </script>\n",
              "    </div>\n",
              "  </div>\n",
              "  "
            ]
          },
          "metadata": {},
          "execution_count": 104
        }
      ]
    },
    {
      "cell_type": "code",
      "source": [
        "data = shuffle(data)\n",
        "data"
      ],
      "metadata": {
        "colab": {
          "base_uri": "https://localhost:8080/",
          "height": 424
        },
        "id": "kw5lX8HdEvtI",
        "outputId": "3fc5a940-7f43-4148-94a9-0c583d8d88d3"
      },
      "execution_count": 105,
      "outputs": [
        {
          "output_type": "execute_result",
          "data": {
            "text/plain": [
              "                                                headline  clickbait\n",
              "26504  Greek newspaper reports British spy involved i...          0\n",
              "15676  Mad Men Mashes Up Perfectly With \"Parks And Re...          1\n",
              "20327               Amid Floods, Brazilian Town Wades On          0\n",
              "19562          Australia wins dramatic second Ashes Test          0\n",
              "10657  19 Things People Who Aren't Naturally Loud Wil...          1\n",
              "...                                                  ...        ...\n",
              "29824                 Iran nuclear talks enter third day          0\n",
              "5805   The Sequel To \"Cloverfield\" Looks Absolutely T...          1\n",
              "5233   Do You Remember Which '00s Pop Star Sang These...          1\n",
              "22865  EU budget chief claims win in Lithuanian presi...          0\n",
              "30871              CanWest Teeters, and Big Changes Loom          0\n",
              "\n",
              "[32000 rows x 2 columns]"
            ],
            "text/html": [
              "\n",
              "  <div id=\"df-722fb628-fda9-4319-9cb9-51fa9c4d4309\">\n",
              "    <div class=\"colab-df-container\">\n",
              "      <div>\n",
              "<style scoped>\n",
              "    .dataframe tbody tr th:only-of-type {\n",
              "        vertical-align: middle;\n",
              "    }\n",
              "\n",
              "    .dataframe tbody tr th {\n",
              "        vertical-align: top;\n",
              "    }\n",
              "\n",
              "    .dataframe thead th {\n",
              "        text-align: right;\n",
              "    }\n",
              "</style>\n",
              "<table border=\"1\" class=\"dataframe\">\n",
              "  <thead>\n",
              "    <tr style=\"text-align: right;\">\n",
              "      <th></th>\n",
              "      <th>headline</th>\n",
              "      <th>clickbait</th>\n",
              "    </tr>\n",
              "  </thead>\n",
              "  <tbody>\n",
              "    <tr>\n",
              "      <th>26504</th>\n",
              "      <td>Greek newspaper reports British spy involved i...</td>\n",
              "      <td>0</td>\n",
              "    </tr>\n",
              "    <tr>\n",
              "      <th>15676</th>\n",
              "      <td>Mad Men Mashes Up Perfectly With \"Parks And Re...</td>\n",
              "      <td>1</td>\n",
              "    </tr>\n",
              "    <tr>\n",
              "      <th>20327</th>\n",
              "      <td>Amid Floods, Brazilian Town Wades On</td>\n",
              "      <td>0</td>\n",
              "    </tr>\n",
              "    <tr>\n",
              "      <th>19562</th>\n",
              "      <td>Australia wins dramatic second Ashes Test</td>\n",
              "      <td>0</td>\n",
              "    </tr>\n",
              "    <tr>\n",
              "      <th>10657</th>\n",
              "      <td>19 Things People Who Aren't Naturally Loud Wil...</td>\n",
              "      <td>1</td>\n",
              "    </tr>\n",
              "    <tr>\n",
              "      <th>...</th>\n",
              "      <td>...</td>\n",
              "      <td>...</td>\n",
              "    </tr>\n",
              "    <tr>\n",
              "      <th>29824</th>\n",
              "      <td>Iran nuclear talks enter third day</td>\n",
              "      <td>0</td>\n",
              "    </tr>\n",
              "    <tr>\n",
              "      <th>5805</th>\n",
              "      <td>The Sequel To \"Cloverfield\" Looks Absolutely T...</td>\n",
              "      <td>1</td>\n",
              "    </tr>\n",
              "    <tr>\n",
              "      <th>5233</th>\n",
              "      <td>Do You Remember Which '00s Pop Star Sang These...</td>\n",
              "      <td>1</td>\n",
              "    </tr>\n",
              "    <tr>\n",
              "      <th>22865</th>\n",
              "      <td>EU budget chief claims win in Lithuanian presi...</td>\n",
              "      <td>0</td>\n",
              "    </tr>\n",
              "    <tr>\n",
              "      <th>30871</th>\n",
              "      <td>CanWest Teeters, and Big Changes Loom</td>\n",
              "      <td>0</td>\n",
              "    </tr>\n",
              "  </tbody>\n",
              "</table>\n",
              "<p>32000 rows × 2 columns</p>\n",
              "</div>\n",
              "      <button class=\"colab-df-convert\" onclick=\"convertToInteractive('df-722fb628-fda9-4319-9cb9-51fa9c4d4309')\"\n",
              "              title=\"Convert this dataframe to an interactive table.\"\n",
              "              style=\"display:none;\">\n",
              "        \n",
              "  <svg xmlns=\"http://www.w3.org/2000/svg\" height=\"24px\"viewBox=\"0 0 24 24\"\n",
              "       width=\"24px\">\n",
              "    <path d=\"M0 0h24v24H0V0z\" fill=\"none\"/>\n",
              "    <path d=\"M18.56 5.44l.94 2.06.94-2.06 2.06-.94-2.06-.94-.94-2.06-.94 2.06-2.06.94zm-11 1L8.5 8.5l.94-2.06 2.06-.94-2.06-.94L8.5 2.5l-.94 2.06-2.06.94zm10 10l.94 2.06.94-2.06 2.06-.94-2.06-.94-.94-2.06-.94 2.06-2.06.94z\"/><path d=\"M17.41 7.96l-1.37-1.37c-.4-.4-.92-.59-1.43-.59-.52 0-1.04.2-1.43.59L10.3 9.45l-7.72 7.72c-.78.78-.78 2.05 0 2.83L4 21.41c.39.39.9.59 1.41.59.51 0 1.02-.2 1.41-.59l7.78-7.78 2.81-2.81c.8-.78.8-2.07 0-2.86zM5.41 20L4 18.59l7.72-7.72 1.47 1.35L5.41 20z\"/>\n",
              "  </svg>\n",
              "      </button>\n",
              "      \n",
              "  <style>\n",
              "    .colab-df-container {\n",
              "      display:flex;\n",
              "      flex-wrap:wrap;\n",
              "      gap: 12px;\n",
              "    }\n",
              "\n",
              "    .colab-df-convert {\n",
              "      background-color: #E8F0FE;\n",
              "      border: none;\n",
              "      border-radius: 50%;\n",
              "      cursor: pointer;\n",
              "      display: none;\n",
              "      fill: #1967D2;\n",
              "      height: 32px;\n",
              "      padding: 0 0 0 0;\n",
              "      width: 32px;\n",
              "    }\n",
              "\n",
              "    .colab-df-convert:hover {\n",
              "      background-color: #E2EBFA;\n",
              "      box-shadow: 0px 1px 2px rgba(60, 64, 67, 0.3), 0px 1px 3px 1px rgba(60, 64, 67, 0.15);\n",
              "      fill: #174EA6;\n",
              "    }\n",
              "\n",
              "    [theme=dark] .colab-df-convert {\n",
              "      background-color: #3B4455;\n",
              "      fill: #D2E3FC;\n",
              "    }\n",
              "\n",
              "    [theme=dark] .colab-df-convert:hover {\n",
              "      background-color: #434B5C;\n",
              "      box-shadow: 0px 1px 3px 1px rgba(0, 0, 0, 0.15);\n",
              "      filter: drop-shadow(0px 1px 2px rgba(0, 0, 0, 0.3));\n",
              "      fill: #FFFFFF;\n",
              "    }\n",
              "  </style>\n",
              "\n",
              "      <script>\n",
              "        const buttonEl =\n",
              "          document.querySelector('#df-722fb628-fda9-4319-9cb9-51fa9c4d4309 button.colab-df-convert');\n",
              "        buttonEl.style.display =\n",
              "          google.colab.kernel.accessAllowed ? 'block' : 'none';\n",
              "\n",
              "        async function convertToInteractive(key) {\n",
              "          const element = document.querySelector('#df-722fb628-fda9-4319-9cb9-51fa9c4d4309');\n",
              "          const dataTable =\n",
              "            await google.colab.kernel.invokeFunction('convertToInteractive',\n",
              "                                                     [key], {});\n",
              "          if (!dataTable) return;\n",
              "\n",
              "          const docLinkHtml = 'Like what you see? Visit the ' +\n",
              "            '<a target=\"_blank\" href=https://colab.research.google.com/notebooks/data_table.ipynb>data table notebook</a>'\n",
              "            + ' to learn more about interactive tables.';\n",
              "          element.innerHTML = '';\n",
              "          dataTable['output_type'] = 'display_data';\n",
              "          await google.colab.output.renderOutput(dataTable, element);\n",
              "          const docLink = document.createElement('div');\n",
              "          docLink.innerHTML = docLinkHtml;\n",
              "          element.appendChild(docLink);\n",
              "        }\n",
              "      </script>\n",
              "    </div>\n",
              "  </div>\n",
              "  "
            ]
          },
          "metadata": {},
          "execution_count": 105
        }
      ]
    },
    {
      "cell_type": "code",
      "source": [
        "data.info()"
      ],
      "metadata": {
        "colab": {
          "base_uri": "https://localhost:8080/"
        },
        "id": "uVGb5LMTExCt",
        "outputId": "3b1c8d43-12ee-4502-90a4-e8c3e2254aba"
      },
      "execution_count": 106,
      "outputs": [
        {
          "output_type": "stream",
          "name": "stdout",
          "text": [
            "<class 'pandas.core.frame.DataFrame'>\n",
            "Int64Index: 32000 entries, 26504 to 30871\n",
            "Data columns (total 2 columns):\n",
            " #   Column     Non-Null Count  Dtype \n",
            "---  ------     --------------  ----- \n",
            " 0   headline   32000 non-null  object\n",
            " 1   clickbait  32000 non-null  int64 \n",
            "dtypes: int64(1), object(1)\n",
            "memory usage: 750.0+ KB\n"
          ]
        }
      ]
    },
    {
      "cell_type": "code",
      "source": [
        "headline = data['headline'].values\n",
        "label = data['clickbait'].values"
      ],
      "metadata": {
        "id": "t7khy6C3E0i4"
      },
      "execution_count": 107,
      "outputs": []
    },
    {
      "cell_type": "code",
      "source": [
        "headline"
      ],
      "metadata": {
        "colab": {
          "base_uri": "https://localhost:8080/"
        },
        "id": "H_i_2KBlE2Ew",
        "outputId": "200ba06d-dbd8-4b94-a4c9-ed506fc9d36d"
      },
      "execution_count": 108,
      "outputs": [
        {
          "output_type": "execute_result",
          "data": {
            "text/plain": [
              "array(['Greek newspaper reports British spy involved in torturing 28 Pakistani citizens',\n",
              "       'Mad Men Mashes Up Perfectly With \"Parks And Rec\" And It\\'s Hilarious',\n",
              "       'Amid Floods, Brazilian Town Wades On', ...,\n",
              "       \"Do You Remember Which '00s Pop Star Sang These Lyrics\",\n",
              "       'EU budget chief claims win in Lithuanian presidential elections',\n",
              "       'CanWest Teeters, and Big Changes Loom'], dtype=object)"
            ]
          },
          "metadata": {},
          "execution_count": 108
        }
      ]
    },
    {
      "cell_type": "code",
      "source": [
        "label"
      ],
      "metadata": {
        "colab": {
          "base_uri": "https://localhost:8080/"
        },
        "id": "eztXCx9eE4Y4",
        "outputId": "530c37d8-434b-4040-c8e8-ea50d253ca03"
      },
      "execution_count": 109,
      "outputs": [
        {
          "output_type": "execute_result",
          "data": {
            "text/plain": [
              "array([0, 1, 0, ..., 1, 0, 0])"
            ]
          },
          "metadata": {},
          "execution_count": 109
        }
      ]
    },
    {
      "cell_type": "code",
      "source": [
        "headline_train, headline_test, label_train, label_test = train_test_split(headline, label, test_size=0.2)"
      ],
      "metadata": {
        "id": "vIhxW_H_E8G7"
      },
      "execution_count": 110,
      "outputs": []
    },
    {
      "cell_type": "code",
      "source": [
        "tokenizer = Tokenizer(num_words=5000, oov_token='x')\n",
        "tokenizer.fit_on_texts(headline_train)\n",
        "tokenizer.fit_on_texts(headline_test)\n",
        "\n",
        "sequence_train = tokenizer.texts_to_sequences(headline_train)\n",
        "sequence_test = tokenizer.texts_to_sequences(headline_test)\n",
        "\n",
        "padded_train = pad_sequences(sequence_train, \n",
        "                             padding='post',\n",
        "                             maxlen=20,\n",
        "                             truncating='post')\n",
        "padded_test = pad_sequences(sequence_test,\n",
        "                            padding='post',\n",
        "                            maxlen=20,\n",
        "                            truncating='post')"
      ],
      "metadata": {
        "id": "tdYvnicFFBW0"
      },
      "execution_count": 111,
      "outputs": []
    },
    {
      "cell_type": "code",
      "source": [
        "model = tf.keras.Sequential([\n",
        "    tf.keras.layers.Embedding(5000, 16, input_length=20),\n",
        "    tf.keras.layers.LSTM(64),\n",
        "    tf.keras.layers.Dropout(0.4),\n",
        "    tf.keras.layers.Flatten(),\n",
        "\n",
        "    tf.keras.layers.Dense(128, activation='relu'),\n",
        "    tf.keras.layers.Dense(64, activation='relu'),\n",
        "    tf.keras.layers.Dense(1, activation='sigmoid')\n",
        "])\n",
        "\n",
        "model.compile(\n",
        "    loss='binary_crossentropy',\n",
        "    optimizer='adam',\n",
        "    metrics=['accuracy']\n",
        ")"
      ],
      "metadata": {
        "id": "lwcNMW_uFDFz"
      },
      "execution_count": 112,
      "outputs": []
    },
    {
      "cell_type": "code",
      "source": [
        "class myCallback(tf.keras.callbacks.Callback):\n",
        "  def on_epoch_end(self, epoch, logs={}):\n",
        "    if(logs.get('accuracy')>1):\n",
        "      print(\"\\nAkurasi telah mencapai > 100%\")\n",
        "      self.model.stop_training = True\n",
        "callbacks = myCallback()"
      ],
      "metadata": {
        "id": "EtFD-vDDFFS3"
      },
      "execution_count": 120,
      "outputs": []
    },
    {
      "cell_type": "code",
      "source": [
        "hist = model.fit(padded_train, label_train, epochs=50, validation_data=(padded_test, label_test), verbose=2, callbacks=[callbacks])"
      ],
      "metadata": {
        "id": "il3FsTepFHKk",
        "colab": {
          "base_uri": "https://localhost:8080/"
        },
        "outputId": "8a6feaf8-0925-4af5-dc03-7a81158df5fe"
      },
      "execution_count": 121,
      "outputs": [
        {
          "output_type": "stream",
          "name": "stdout",
          "text": [
            "Epoch 1/50\n",
            "800/800 - 13s - loss: 0.0230 - accuracy: 0.9931 - val_loss: 0.0915 - val_accuracy: 0.9736 - 13s/epoch - 16ms/step\n",
            "Epoch 2/50\n",
            "800/800 - 13s - loss: 0.0207 - accuracy: 0.9938 - val_loss: 0.0933 - val_accuracy: 0.9733 - 13s/epoch - 16ms/step\n",
            "Epoch 3/50\n",
            "800/800 - 14s - loss: 0.0166 - accuracy: 0.9949 - val_loss: 0.1072 - val_accuracy: 0.9722 - 14s/epoch - 17ms/step\n",
            "Epoch 4/50\n",
            "800/800 - 14s - loss: 0.0134 - accuracy: 0.9960 - val_loss: 0.1289 - val_accuracy: 0.9705 - 14s/epoch - 17ms/step\n",
            "Epoch 5/50\n",
            "800/800 - 13s - loss: 0.0119 - accuracy: 0.9962 - val_loss: 0.1655 - val_accuracy: 0.9719 - 13s/epoch - 16ms/step\n",
            "Epoch 6/50\n",
            "800/800 - 13s - loss: 0.0103 - accuracy: 0.9969 - val_loss: 0.1697 - val_accuracy: 0.9698 - 13s/epoch - 16ms/step\n",
            "Epoch 7/50\n",
            "800/800 - 13s - loss: 0.0088 - accuracy: 0.9974 - val_loss: 0.1197 - val_accuracy: 0.9691 - 13s/epoch - 16ms/step\n",
            "Epoch 8/50\n",
            "800/800 - 15s - loss: 0.0083 - accuracy: 0.9975 - val_loss: 0.1450 - val_accuracy: 0.9703 - 15s/epoch - 18ms/step\n",
            "Epoch 9/50\n",
            "800/800 - 13s - loss: 0.0077 - accuracy: 0.9978 - val_loss: 0.2212 - val_accuracy: 0.9659 - 13s/epoch - 16ms/step\n",
            "Epoch 10/50\n",
            "800/800 - 13s - loss: 0.0066 - accuracy: 0.9983 - val_loss: 0.2229 - val_accuracy: 0.9686 - 13s/epoch - 16ms/step\n",
            "Epoch 11/50\n",
            "800/800 - 13s - loss: 0.0061 - accuracy: 0.9982 - val_loss: 0.1842 - val_accuracy: 0.9670 - 13s/epoch - 16ms/step\n",
            "Epoch 12/50\n",
            "800/800 - 13s - loss: 0.0074 - accuracy: 0.9979 - val_loss: 0.2023 - val_accuracy: 0.9667 - 13s/epoch - 16ms/step\n",
            "Epoch 13/50\n",
            "800/800 - 13s - loss: 0.0064 - accuracy: 0.9982 - val_loss: 0.2000 - val_accuracy: 0.9675 - 13s/epoch - 16ms/step\n",
            "Epoch 14/50\n",
            "800/800 - 13s - loss: 0.0062 - accuracy: 0.9985 - val_loss: 0.2253 - val_accuracy: 0.9669 - 13s/epoch - 16ms/step\n",
            "Epoch 15/50\n",
            "800/800 - 13s - loss: 0.0046 - accuracy: 0.9987 - val_loss: 0.1814 - val_accuracy: 0.9661 - 13s/epoch - 16ms/step\n",
            "Epoch 16/50\n",
            "800/800 - 12s - loss: 0.0050 - accuracy: 0.9985 - val_loss: 0.2232 - val_accuracy: 0.9663 - 12s/epoch - 15ms/step\n",
            "Epoch 17/50\n",
            "800/800 - 13s - loss: 0.0043 - accuracy: 0.9988 - val_loss: 0.2525 - val_accuracy: 0.9650 - 13s/epoch - 16ms/step\n",
            "Epoch 18/50\n",
            "800/800 - 13s - loss: 0.0036 - accuracy: 0.9989 - val_loss: 0.4043 - val_accuracy: 0.9594 - 13s/epoch - 17ms/step\n",
            "Epoch 19/50\n",
            "800/800 - 12s - loss: 0.0043 - accuracy: 0.9988 - val_loss: 0.2771 - val_accuracy: 0.9639 - 12s/epoch - 15ms/step\n",
            "Epoch 20/50\n",
            "800/800 - 12s - loss: 0.0035 - accuracy: 0.9994 - val_loss: 0.2377 - val_accuracy: 0.9673 - 12s/epoch - 16ms/step\n",
            "Epoch 21/50\n",
            "800/800 - 13s - loss: 0.0042 - accuracy: 0.9990 - val_loss: 0.2243 - val_accuracy: 0.9661 - 13s/epoch - 16ms/step\n",
            "Epoch 22/50\n",
            "800/800 - 13s - loss: 0.0030 - accuracy: 0.9991 - val_loss: 0.3310 - val_accuracy: 0.9673 - 13s/epoch - 16ms/step\n",
            "Epoch 23/50\n",
            "800/800 - 13s - loss: 0.0022 - accuracy: 0.9993 - val_loss: 0.2919 - val_accuracy: 0.9663 - 13s/epoch - 16ms/step\n",
            "Epoch 24/50\n",
            "800/800 - 13s - loss: 0.0028 - accuracy: 0.9991 - val_loss: 0.2899 - val_accuracy: 0.9670 - 13s/epoch - 16ms/step\n",
            "Epoch 25/50\n",
            "800/800 - 13s - loss: 0.0037 - accuracy: 0.9992 - val_loss: 0.1895 - val_accuracy: 0.9684 - 13s/epoch - 16ms/step\n",
            "Epoch 26/50\n",
            "800/800 - 13s - loss: 0.0031 - accuracy: 0.9995 - val_loss: 0.2540 - val_accuracy: 0.9683 - 13s/epoch - 16ms/step\n",
            "Epoch 27/50\n",
            "800/800 - 13s - loss: 0.0018 - accuracy: 0.9996 - val_loss: 0.3610 - val_accuracy: 0.9681 - 13s/epoch - 17ms/step\n",
            "Epoch 28/50\n",
            "800/800 - 12s - loss: 0.0018 - accuracy: 0.9993 - val_loss: 0.2773 - val_accuracy: 0.9667 - 12s/epoch - 15ms/step\n",
            "Epoch 29/50\n",
            "800/800 - 12s - loss: 0.0035 - accuracy: 0.9989 - val_loss: 0.3106 - val_accuracy: 0.9689 - 12s/epoch - 15ms/step\n",
            "Epoch 30/50\n",
            "800/800 - 13s - loss: 0.0029 - accuracy: 0.9991 - val_loss: 0.2060 - val_accuracy: 0.9680 - 13s/epoch - 16ms/step\n",
            "Epoch 31/50\n",
            "800/800 - 13s - loss: 0.0016 - accuracy: 0.9995 - val_loss: 0.2771 - val_accuracy: 0.9666 - 13s/epoch - 16ms/step\n",
            "Epoch 32/50\n",
            "800/800 - 13s - loss: 0.0022 - accuracy: 0.9993 - val_loss: 0.4505 - val_accuracy: 0.9683 - 13s/epoch - 16ms/step\n",
            "Epoch 33/50\n",
            "800/800 - 14s - loss: 0.0023 - accuracy: 0.9994 - val_loss: 0.3459 - val_accuracy: 0.9683 - 14s/epoch - 18ms/step\n",
            "Epoch 34/50\n",
            "800/800 - 21s - loss: 0.0016 - accuracy: 0.9995 - val_loss: 0.3040 - val_accuracy: 0.9688 - 21s/epoch - 26ms/step\n",
            "Epoch 35/50\n",
            "800/800 - 19s - loss: 9.4711e-04 - accuracy: 0.9996 - val_loss: 0.3634 - val_accuracy: 0.9655 - 19s/epoch - 24ms/step\n",
            "Epoch 36/50\n",
            "800/800 - 13s - loss: 0.0020 - accuracy: 0.9994 - val_loss: 0.3242 - val_accuracy: 0.9678 - 13s/epoch - 16ms/step\n",
            "Epoch 37/50\n",
            "800/800 - 13s - loss: 0.0017 - accuracy: 0.9995 - val_loss: 0.4143 - val_accuracy: 0.9694 - 13s/epoch - 17ms/step\n",
            "Epoch 38/50\n",
            "800/800 - 12s - loss: 0.0022 - accuracy: 0.9993 - val_loss: 0.3650 - val_accuracy: 0.9680 - 12s/epoch - 15ms/step\n",
            "Epoch 39/50\n",
            "800/800 - 13s - loss: 0.0014 - accuracy: 0.9996 - val_loss: 0.4038 - val_accuracy: 0.9691 - 13s/epoch - 16ms/step\n",
            "Epoch 40/50\n",
            "800/800 - 13s - loss: 5.6454e-04 - accuracy: 0.9997 - val_loss: 0.5321 - val_accuracy: 0.9686 - 13s/epoch - 17ms/step\n",
            "Epoch 41/50\n",
            "800/800 - 13s - loss: 0.0014 - accuracy: 0.9996 - val_loss: 0.4580 - val_accuracy: 0.9689 - 13s/epoch - 16ms/step\n",
            "Epoch 42/50\n",
            "800/800 - 13s - loss: 0.0035 - accuracy: 0.9993 - val_loss: 0.2509 - val_accuracy: 0.9700 - 13s/epoch - 16ms/step\n",
            "Epoch 43/50\n",
            "800/800 - 13s - loss: 0.0016 - accuracy: 0.9995 - val_loss: 0.3317 - val_accuracy: 0.9656 - 13s/epoch - 16ms/step\n",
            "Epoch 44/50\n",
            "800/800 - 13s - loss: 7.7586e-04 - accuracy: 0.9996 - val_loss: 0.3585 - val_accuracy: 0.9667 - 13s/epoch - 16ms/step\n",
            "Epoch 45/50\n",
            "800/800 - 13s - loss: 7.2672e-04 - accuracy: 0.9997 - val_loss: 0.4043 - val_accuracy: 0.9655 - 13s/epoch - 16ms/step\n",
            "Epoch 46/50\n",
            "800/800 - 14s - loss: 4.8834e-04 - accuracy: 0.9998 - val_loss: 0.4805 - val_accuracy: 0.9669 - 14s/epoch - 17ms/step\n",
            "Epoch 47/50\n",
            "800/800 - 12s - loss: 6.9396e-04 - accuracy: 0.9996 - val_loss: 0.4907 - val_accuracy: 0.9663 - 12s/epoch - 15ms/step\n",
            "Epoch 48/50\n",
            "800/800 - 12s - loss: 3.6659e-04 - accuracy: 0.9998 - val_loss: 0.5431 - val_accuracy: 0.9664 - 12s/epoch - 15ms/step\n",
            "Epoch 49/50\n",
            "800/800 - 14s - loss: 0.0027 - accuracy: 0.9993 - val_loss: 0.2263 - val_accuracy: 0.9677 - 14s/epoch - 17ms/step\n",
            "Epoch 50/50\n",
            "800/800 - 13s - loss: 0.0023 - accuracy: 0.9995 - val_loss: 0.3880 - val_accuracy: 0.9677 - 13s/epoch - 16ms/step\n"
          ]
        }
      ]
    },
    {
      "cell_type": "code",
      "source": [
        "model.evaluate(padded_test, label_test)"
      ],
      "metadata": {
        "id": "EXtCqzckFIo-",
        "colab": {
          "base_uri": "https://localhost:8080/"
        },
        "outputId": "88878c73-dc82-4313-a3db-6f526cba7d66"
      },
      "execution_count": 122,
      "outputs": [
        {
          "output_type": "stream",
          "name": "stdout",
          "text": [
            "200/200 [==============================] - 1s 7ms/step - loss: 0.3880 - accuracy: 0.9677\n"
          ]
        },
        {
          "output_type": "execute_result",
          "data": {
            "text/plain": [
              "[0.3879507780075073, 0.9676562547683716]"
            ]
          },
          "metadata": {},
          "execution_count": 122
        }
      ]
    },
    {
      "cell_type": "code",
      "source": [
        "plt.plot(hist.history['accuracy'])\n",
        "plt.plot(hist.history['val_accuracy'])\n",
        "plt.title('Model Accuracy')\n",
        "plt.ylabel('accuracy')\n",
        "plt.xlabel('epoch')\n",
        "plt.legend(['train', 'test'], loc='upper left')\n",
        "plt.show()"
      ],
      "metadata": {
        "colab": {
          "base_uri": "https://localhost:8080/",
          "height": 295
        },
        "id": "we4yeYOONOt2",
        "outputId": "6437e8d9-6708-4951-ffce-a0c9731d5658"
      },
      "execution_count": 123,
      "outputs": [
        {
          "output_type": "display_data",
          "data": {
            "text/plain": [
              "<Figure size 432x288 with 1 Axes>"
            ],
            "image/png": "[encoded data removed]"
          },
          "metadata": {
            "needs_background": "light"
          }
        }
      ]
    },
    {
      "cell_type": "code",
      "source": [
        "plt.plot(hist.history['loss'])\n",
        "plt.plot(hist.history['val_loss'])\n",
        "plt.title('Loss Model')\n",
        "plt.ylabel('loss')\n",
        "plt.xlabel('epoch')\n",
        "plt.legend(['train', 'test'], loc='upper left')\n",
        "plt.show()"
      ],
      "metadata": {
        "colab": {
          "base_uri": "https://localhost:8080/",
          "height": 295
        },
        "id": "wo3hZYbRNSVY",
        "outputId": "633f7f4e-ce2c-45ca-9256-ddea6ea99715"
      },
      "execution_count": 124,
      "outputs": [
        {
          "output_type": "display_data",
          "data": {
            "text/plain": [
              "<Figure size 432x288 with 1 Axes>"
            ],
            "image/png": "[encoded data removed]"
          },
          "metadata": {
            "needs_background": "light"
          }
        }
      ]
    },
    {
      "cell_type": "code",
      "source": [],
      "metadata": {
        "id": "t51eQZ20NVI_"
      },
      "execution_count": null,
      "outputs": []
    }
  ]
}